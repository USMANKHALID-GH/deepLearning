{
 "cells": [
  {
   "cell_type": "code",
   "execution_count": 1,
   "metadata": {
    "collapsed": true
   },
   "outputs": [],
   "source": [
    "import pandas as pd\n",
    "import  gensim\n",
    "import  tensorflow as tf"
   ]
  },
  {
   "cell_type": "code",
   "execution_count": 14,
   "outputs": [],
   "source": [
    "datafram=pd.read_json('Sports_and_Outdoors_5.json',lines=True)\n",
    "data=pd.read_csv('7allV03.csv')"
   ],
   "metadata": {
    "collapsed": false,
    "pycharm": {
     "name": "#%%\n"
    }
   }
  },
  {
   "cell_type": "code",
   "execution_count": 15,
   "outputs": [
    {
     "data": {
      "text/plain": "        category                                               text\n0       siyaset    3 milyon ile ön seçim vaadi mhp nin 10 olağan...\n1       siyaset    mesut_yılmaz yüce_divan da ceza alabilirdi pr...\n2       siyaset    disko lar kaldırılıyor başbakan_yardımcısı ar...\n3       siyaset    sarıgül anayasa_mahkemesi ne gidiyor mustafa_...\n4       siyaset    erdoğan idamın bir haklılık sebebi var demek ...\n...          ...                                                ...\n4885  teknoloji    anonymous üyelerine hapis cezası anonymous ad...\n4886  teknoloji    facebook a siber saldırı sosyal paylaşım site...\n4887  teknoloji    internet kullanıcıları facebook bağımlısı tür...\n4888  teknoloji    10 milyar ışık yılı uzakta ! 10 milyar ışık y...\n4889  teknoloji    apple a bir şok daha belçika daki tüketici ha...\n\n[4890 rows x 2 columns]",
      "text/html": "<div>\n<style scoped>\n    .dataframe tbody tr th:only-of-type {\n        vertical-align: middle;\n    }\n\n    .dataframe tbody tr th {\n        vertical-align: top;\n    }\n\n    .dataframe thead th {\n        text-align: right;\n    }\n</style>\n<table border=\"1\" class=\"dataframe\">\n  <thead>\n    <tr style=\"text-align: right;\">\n      <th></th>\n      <th>category</th>\n      <th>text</th>\n    </tr>\n  </thead>\n  <tbody>\n    <tr>\n      <th>0</th>\n      <td>siyaset</td>\n      <td>3 milyon ile ön seçim vaadi mhp nin 10 olağan...</td>\n    </tr>\n    <tr>\n      <th>1</th>\n      <td>siyaset</td>\n      <td>mesut_yılmaz yüce_divan da ceza alabilirdi pr...</td>\n    </tr>\n    <tr>\n      <th>2</th>\n      <td>siyaset</td>\n      <td>disko lar kaldırılıyor başbakan_yardımcısı ar...</td>\n    </tr>\n    <tr>\n      <th>3</th>\n      <td>siyaset</td>\n      <td>sarıgül anayasa_mahkemesi ne gidiyor mustafa_...</td>\n    </tr>\n    <tr>\n      <th>4</th>\n      <td>siyaset</td>\n      <td>erdoğan idamın bir haklılık sebebi var demek ...</td>\n    </tr>\n    <tr>\n      <th>...</th>\n      <td>...</td>\n      <td>...</td>\n    </tr>\n    <tr>\n      <th>4885</th>\n      <td>teknoloji</td>\n      <td>anonymous üyelerine hapis cezası anonymous ad...</td>\n    </tr>\n    <tr>\n      <th>4886</th>\n      <td>teknoloji</td>\n      <td>facebook a siber saldırı sosyal paylaşım site...</td>\n    </tr>\n    <tr>\n      <th>4887</th>\n      <td>teknoloji</td>\n      <td>internet kullanıcıları facebook bağımlısı tür...</td>\n    </tr>\n    <tr>\n      <th>4888</th>\n      <td>teknoloji</td>\n      <td>10 milyar ışık yılı uzakta ! 10 milyar ışık y...</td>\n    </tr>\n    <tr>\n      <th>4889</th>\n      <td>teknoloji</td>\n      <td>apple a bir şok daha belçika daki tüketici ha...</td>\n    </tr>\n  </tbody>\n</table>\n<p>4890 rows × 2 columns</p>\n</div>"
     },
     "execution_count": 15,
     "metadata": {},
     "output_type": "execute_result"
    }
   ],
   "source": [
    "data.head(-10)"
   ],
   "metadata": {
    "collapsed": false,
    "pycharm": {
     "name": "#%%\n"
    }
   }
  },
  {
   "cell_type": "code",
   "execution_count": 5,
   "outputs": [],
   "source": [
    "newDataFrame=datafram['reviewText']"
   ],
   "metadata": {
    "collapsed": false,
    "pycharm": {
     "name": "#%%\n"
    }
   }
  },
  {
   "cell_type": "code",
   "execution_count": 17,
   "outputs": [],
   "source": [
    "gs=gensim.utils.simple_preprocess"
   ],
   "metadata": {
    "collapsed": false,
    "pycharm": {
     "name": "#%%\n"
    }
   }
  },
  {
   "cell_type": "code",
   "execution_count": 18,
   "outputs": [],
   "source": [
    "# preprocessed_Text=newDataFrame.apply(gs)\n",
    "preprocessed_Text1=data.text.apply(gs)"
   ],
   "metadata": {
    "collapsed": false,
    "pycharm": {
     "name": "#%%\n"
    }
   }
  },
  {
   "cell_type": "code",
   "execution_count": 19,
   "outputs": [
    {
     "data": {
      "text/plain": "['milyon',\n 'ile',\n 'ön',\n 'seçim',\n 'vaadi',\n 'mhp',\n 'nin',\n 'olağan',\n 'büyük',\n 'kurultayı',\n 'nda',\n 'konuşan',\n 'genel',\n 'başkan',\n 'adayı',\n 'koray_aydın',\n 'seçimlerden',\n 'önce',\n 'partinin',\n 'üye',\n 'sayısının',\n 'milyona',\n 'ulaştırılması',\n 'hedefini',\n 'koyarak',\n 'ön',\n 'seçim',\n 'uygulaması',\n 'vaadinde',\n 'bulundu',\n 'mhp',\n 'nin',\n 'olağan',\n 'büyük',\n 'kurultayı',\n 'nda',\n 'konuşan',\n 'genel',\n 'başkan',\n 'adayı',\n 'koray_aydın',\n 'seçimlerden',\n 'önce',\n 'partinin',\n 'üye',\n 'sayısının',\n 'milyona',\n 'ulaştırılması',\n 'hedefini',\n 'koyarak',\n 'ön',\n 'seçim',\n 'uygulaması',\n 'vaadinde',\n 'bulundu',\n 'genel_başkan',\n 'adayı',\n 'koray_aydın',\n 'kürsüye',\n 'beklenirken',\n 'yapılan',\n 'tezahüratlar',\n 've',\n 'ıslıklamalar',\n 'üzerine',\n 'divan',\n 'başkanı',\n 'tuğrul_türkeş',\n 'mhp',\n 'nin',\n 'genel',\n 'başkanlığı',\n 'da',\n 'genel',\n 'başkan',\n 'adaylığı',\n 'da',\n 'saygıdeğer',\n 'işlerdir',\n 'bu',\n 'salondaki',\n 'herkes',\n 'ciddiye',\n 'almak',\n 'zorundadır',\n 'dedi',\n 've',\n 'taşkınlıklara',\n 'izin',\n 'verilmeyeceğini',\n 'salonda',\n 'sükunet',\n 'sağlanmadan',\n 'konuşmaların',\n 'başlamayacağını',\n 'vurguladı',\n 'türkeş',\n 'devlet_bahçeli',\n 'nin',\n 'kurultay',\n 'açılışında',\n 'konuştuğu',\n 'için',\n 'adaylık',\n 'nedeniyle',\n 'ikinci',\n 'bir',\n 'konuşma',\n 'yapmayacağını',\n 'açıkladı',\n 'konuşmasında',\n 'kurultayın',\n 'mhp',\n 'nin',\n 'tek',\n 'başına',\n 'iktidarına',\n 'vesile',\n 'olmasını',\n 'dileyen',\n 'aydın',\n 'ak_parti',\n 'nin',\n 'mhp',\n 'yi',\n 'eleştirirken',\n 'kaleleri',\n 'bir',\n 'bir',\n 'fethederek',\n 'yollarına',\n 'devam',\n 'ettiklerini',\n 'söylediğini',\n 'hatırlatarak',\n 'iktidarın',\n 'basın',\n 've',\n 'sivil',\n 'toplumu',\n 'susturduğunu',\n 'ifade',\n 'etti',\n 'ak_parti',\n 'nin',\n 'bürokraside',\n 'taş',\n 'üstüne',\n 'taş',\n 'bırakmadığını',\n 'ileri',\n 'süren',\n 'aydın',\n 'ülkücüleri',\n 'düşman',\n 'kabule',\n 'ederek',\n 'onları',\n 'kıyma',\n 'makinelerinden',\n 'geçirecek',\n 'bir',\n 'zihniyetle',\n 'sürgün',\n 'ederek',\n 'oraya',\n 'buraya',\n 'saldırarak',\n 'bürokrasideki',\n 'ülkücü',\n 'kadrolara',\n 'savaş',\n 'açtılar',\n 'dedi',\n 'yaşanan',\n 'bütün',\n 'skandalların',\n 'ardından',\n 'devleti',\n 'çete',\n 'mantığıyla',\n 'yöneten',\n 'siyasi',\n 'iktidarın',\n 'olduğunu',\n 'savunan',\n 'aydın',\n 'iktidarın',\n 'belediyelere',\n 'sahte',\n 'raporlarla',\n 've',\n 'dinlemelerle',\n 'saldırdığını',\n 'savunan',\n 'aydın',\n 'arkasından',\n 'habur',\n 'dan',\n 'içeri',\n 'soktukları',\n 'vatan',\n 'hainlerine',\n 'karşılama',\n 'törenleri',\n 'yetmez',\n 'gibi',\n 'oslo',\n 'da',\n 'teröristlerle',\n 'kurdukları',\n 'pazarlık',\n 'masalarında',\n 'suçüstü',\n 'yakalanınca',\n 'da',\n 'ben',\n 'görmedim',\n 'diyerek',\n 'bunu',\n 'ispat',\n 'edecek',\n 'biri',\n 'varsa',\n 'şerefle',\n 'ispat',\n 'etsin',\n 'diyerek',\n 'ses',\n 'kayıtları',\n 'çıkınca',\n 'da',\n 'kıvırarak',\n 'yaptığı',\n 'işin',\n 'üzerine',\n 'şal',\n 'örtmeye',\n 'çalışarak',\n 'siyasi',\n 'riyakarlıkta',\n 'sınır',\n 'tanımayan',\n 'siyasi',\n 'iktidarla',\n 'karşı',\n 'karşıyayız',\n 'diye',\n 'konuştu',\n 'mintika',\n 'temizliği',\n 'yapiyorlar',\n 'ak_parti',\n 'nin',\n 'ne',\n 'yaptığını',\n 'iyi',\n 'bildiğini',\n 'türkiye',\n 'de',\n 'ihtilal',\n 'teşebbüsü',\n 'var',\n 'diyerek',\n 'ordunun',\n 'subaylarını',\n 'yargılama',\n 'adı',\n 'altında',\n 'cezaevine',\n 'koyduğunu',\n 'savunan',\n 'aydın',\n 'önce',\n 'milletin',\n 'bu',\n 'darbeciler',\n 'ortadan',\n 'kalksın',\n 'diyerek',\n 'desteklediği',\n 'sonra',\n 'plan',\n 'gereği',\n 'sürek',\n 'avına',\n 'çevirerek',\n 'türk',\n 'ordusunun',\n 'neredeyse',\n 'yarısını',\n 'içeri',\n 'atan',\n 'bu',\n 'zihniyet',\n 'mıntıka',\n 'temizliği',\n 'yapıyor',\n 'kuracakları',\n 'yeni',\n 'türkiye',\n 'modeline',\n 'engel',\n 'olmasın',\n 'diye',\n 'bunları',\n 'kaldırıyorlar',\n 'bu',\n 'işi',\n 'haince',\n 'yapanlar',\n 'ne',\n 'zaman',\n 'ki',\n 'şehit',\n 'cenazeleri',\n 'türkiye',\n 'yi',\n 'ağlatmaya',\n 'başlarken',\n 'acılarımızla',\n 'yaşarken',\n 'türkiye',\n 'nin',\n 'başbakanı',\n 'gerekirse',\n 'öcalan',\n 'la',\n 'yeniden',\n 'görüşebilirim',\n 'diyor',\n 'sayın_başbakan',\n 'ne',\n 'görüşeceksin',\n 'öcalan',\n 'la',\n 'ne',\n 'söyleyeceksin',\n 'oraya',\n 'bir',\n 'masa',\n 'koymuşsun',\n 'masanın',\n 'üstünde',\n 'türkiye',\n 'karşında',\n 'öcalan',\n 'ne',\n 'kadar',\n 'istiyorsun',\n 'şu',\n 'kadar',\n 'versem',\n 'yeter',\n 'mi',\n 'diyeceksin',\n 'öcalan',\n 'yüzsüzlük',\n 'eder',\n 'de',\n 'türkiye',\n 'nin',\n 'tamamını',\n 'isterse',\n 'ne',\n 'yapacaksın',\n 'diye',\n 'konuştu',\n 'zaman',\n 'ne',\n 'yapacağiz',\n 'yeni',\n 'anayasa',\n 'kapsamında',\n 'türk',\n 'milletinin',\n 'adının',\n 'anayasadan',\n 'çıkarılarak',\n 'bir',\n 'alt',\n 'kimlik',\n 'haline',\n 'getirileceğini',\n 'türk',\n 'milletine',\n 'etnisite',\n 'temelli',\n 'yaklaşılacağını',\n 'savunan',\n 'aydın',\n 'bu_türk',\n 'milletinin',\n 'varlığını',\n 'ötüken',\n 'de',\n 'söğüt',\n 'te',\n 'türk',\n 'olan',\n 'türk',\n 'milletinin',\n 'varlığını',\n 'ortadan',\n 'kaldırma',\n 'çabasıdır',\n 'bu',\n 'işin',\n 'sonudur',\n 'çünkü',\n 'şu',\n 'anda',\n 'kendisiyle',\n 'benzeşen',\n 'anamuhalefetle',\n 'anlaşıp',\n 'anayasadan',\n 'türk',\n 'milletinin',\n 'adını',\n 'çıkarırlarsa',\n 'yapılacak',\n 'bir',\n 'şey',\n 'kalmaz',\n 'meclis',\n 'sayısal',\n 'çoğunlukla',\n 'yönetiliyor',\n 'bunlar',\n 'sinsi',\n 'her',\n 'işi',\n 'alttan',\n 'alttan',\n 'götürüyorlar',\n 'böyle',\n 'bir',\n 'adım',\n 'atar',\n 'bu',\n 'büyük',\n 'milletin',\n 'adını',\n 'çıkararak',\n 'türk',\n 'milletini',\n 'bir',\n 'alt',\n 'kimlik',\n 'haline',\n 'dönüştürürlerse',\n 'ne',\n 'yapacağız',\n 'bunu',\n 'yaparlarsa',\n 'yıl',\n 'yıl',\n 'sonra',\n 'bu',\n 'ülkenin',\n 'adının',\n 'türkiye',\n 'olmasına',\n 'gerek',\n 'yoktur',\n 'derlerse',\n 'ne',\n 'yapacağız',\n 'bu',\n 'sinsi',\n 'planı',\n 'iyi',\n 'görelim',\n 'bunu',\n 'için',\n 'bir',\n 'şeyler',\n 'yapmamız',\n 'harekete',\n 'geçmemiz',\n 'lazım',\n 'dedi',\n 'şubat',\n 'ta',\n 'milyon',\n 'olarak',\n 'toplanirsak',\n 'kimsenin',\n 'türkiye',\n 'de',\n 'olanlara',\n 'arkasını',\n 'dönemeyeceğini',\n 'ifade',\n 'eden',\n 'aydın',\n 'özetle',\n 'şunları',\n 'söyledi',\n 'meydanlara',\n 'ineceğiz',\n 'türk',\n 'milletine',\n 'gideceğiz',\n 'milletle',\n 'bütünleşeceğiz',\n 'onu',\n 'bekleyen',\n 'bu',\n 'tehlikeler',\n 'hakkında',\n 'uyaracağız',\n 'anlatacağız',\n 'onu',\n 'yanımıza',\n 'almaya',\n 'çalışacağız',\n 'büyük',\n 'gücü',\n 'harekete',\n 'geçirir',\n 'meydanlara',\n 'iner',\n 'onların',\n 'dikkatini',\n 'çekip',\n 'yanımıza',\n 'alırsak',\n 'şubat',\n 'ayında',\n 'milyon',\n 'olarak',\n 'toplanırsak',\n 'hangi',\n 'vatan',\n 'hainleri',\n 'bunu',\n 'yapmaya',\n 'cesaret',\n 'edebilir',\n 'türk',\n 'milletinin',\n 'bunu',\n 'anlamasını',\n 'sağlamamız',\n 'lazım',\n 'bunun',\n 'için',\n 'güçlü',\n 'bir',\n 'mhp',\n 'ye',\n 'ihtiyaç',\n 'var',\n 'yıllık',\n 'fikri',\n 'birikimi',\n 'üzerinden',\n 'türk',\n 'milletini',\n 'bütün',\n 'problemlerine',\n 'getireceği',\n 'çözüm',\n 'önerilerini',\n 'bir',\n 'iktidar',\n 'projesine',\n 'dönüştürerek',\n 'türk',\n 'milletini',\n 'karşısına',\n 'çıkıp',\n 'iktidar',\n 'istersek',\n 'bu',\n 'coşku',\n 've',\n 'heyecanı',\n 'ona',\n 'aksettirirsek',\n 'bu',\n 'millet',\n 'bu',\n 'şaşkınlıkla',\n 'etrafına',\n 'bakınırken',\n 'ben',\n 'nereye',\n 'bakacağım',\n 'sorusunu',\n 'sorarken',\n 'bu',\n 'millet',\n 'elimizi',\n 'tutacak',\n 've',\n 'mhp',\n 'ile',\n 'yeniden',\n 'ayağa',\n 'kalkacaktır',\n 'hedef',\n 'milyon',\n 'üye',\n 'bu',\n 'mücadelede',\n 'ilk',\n 'doğru',\n 'adımın',\n 'ülkücü',\n 'hareketin',\n 'birliğini',\n 've',\n 'dirliğini',\n 'sağlamak',\n 'olduğunu',\n 'kaydeden',\n 'aydın',\n 'harekete',\n 'bir',\n 'gün',\n 'bile',\n 'hizmet',\n 'etmiş',\n 'her',\n 'ülküdaşlarıyla',\n 'kucaklaşmak',\n 've',\n 'bir',\n 'araya',\n 'gelmek',\n 'mecburiyetinde',\n 'olduklarını',\n 'ifade',\n 'etti',\n 'ülkücüleri',\n 'ülküdaşlık',\n 'hukuku',\n 'temelinde',\n 'kaynaştırmadan',\n 'büyük',\n 'hedeflere',\n 'anlatan',\n 'aydın',\n 'bunu',\n 'temel',\n 'hareket',\n 'noktası',\n 'kabul',\n 'ediyoruz',\n 'birey',\n 'temelli',\n 'bir',\n 'hareketin',\n 'başlaması',\n 'için',\n 'önce',\n 'partide',\n 'üyelik',\n 'sistemini',\n 'bir',\n 'kampanyaya',\n 'çevireceğiz',\n 'seçime',\n 'kadar',\n 'milyon',\n 'üye',\n 'yaparak',\n 'ailelerimizin',\n 'fertlerini',\n 'genişleteceğiz',\n 'bunu',\n 'iller',\n 'arası',\n 'yarışa',\n 'çevireceğiz',\n 'mhp',\n 'nin',\n 'milyon',\n 'üyeli',\n 'geniş',\n 'aile',\n 'haline',\n 'gelmesini',\n 'sağlayacağız',\n 'dedi',\n 'önseçim',\n 'vaadi',\n 'genel_başkan',\n 'seçilmesi',\n 'halinde',\n 'mhp',\n 'ailesini',\n 'genişleteceğini',\n 'kaydeden',\n 'aydın',\n 'bunu',\n 'yapınca',\n 'bu',\n 'milyon',\n 'kişi',\n 'kurulan',\n 'sandıklarla',\n 'yapacağı',\n 'bir',\n 'ön',\n 'seçimi',\n 'size',\n 'vaat',\n 'ediyorum',\n 'bunu',\n 'taban',\n 'güvenmek',\n 'demektir',\n 'böyle',\n 'bir',\n 'ön',\n 'seçim',\n 'yapıldı',\n 'mı',\n 'ankara',\n 'da',\n 'kimse',\n 'genel',\n 'merkez',\n 'katlarında',\n 'dolaşmayacak',\n 'tabana',\n 'size',\n 'gidecek',\n 'hasta',\n 'olanın',\n 'düğünü',\n 'olanın',\n 'yanında',\n 'olacak',\n 'yere',\n 'düşeni',\n 'ayağa',\n 'kaldıracak',\n 'böylece',\n 'bu',\n 'büyük',\n 'aile',\n 'fertleri',\n 'bir',\n 'birini',\n 'anlayacak',\n 'bu',\n 'güzel',\n 'sözün',\n 'olduğu',\n 'ortamın',\n 'inşası',\n 'demektir',\n 'bu',\n 'kötü',\n 'söz',\n 'olanın',\n 'tasfiye',\n 'edileceği',\n 'liyakatın',\n 'esas',\n 'alınacağı',\n 'yeni',\n 'bir',\n 'sistemin',\n 'gelmesin',\n 'demektir',\n 'bu',\n 'adımı',\n 'atar',\n 'aile',\n 'fertleri',\n 'arasında',\n 'huzuru',\n 'sağlarsak',\n 'örgütlenme',\n 'modelini',\n 'buna',\n 'paralel',\n 'değiştirirsek',\n 'mhp',\n 'nin',\n 'içinde',\n 'huzur',\n 'sağlanır',\n 'diye',\n 'konuştu',\n 'bu',\n 'bir',\n 'kişiyi',\n 'korumak',\n 'için',\n 'kelle',\n 'avcısı',\n 'rolü',\n 'üstlenip',\n 'ülküdaşlarını',\n 'yok',\n 'farz',\n 'ederek',\n 'küskünler',\n 'ordusu',\n 'yarattığın',\n 'bir',\n 'sitemin',\n 'anlaşılması',\n 'demektir',\n 'diyen',\n 'aydın',\n 'mhp',\n 'her',\n 'yerde',\n 'sloganıyla',\n 'parti',\n 'içinde',\n 'hareketlilik',\n 'halka',\n 'dokunacaklarını',\n 'ifade',\n 'etti',\n 've',\n 'tabanla',\n 'bütünleşmiş',\n 'mhp',\n 'ye',\n 'ihtiyaç',\n 'var',\n 'bunun',\n 'içi',\n 'bir',\n 'iktidar',\n 'projesi',\n 'koyarak',\n 'aday',\n 'olduk',\n 'biz',\n 'iktidar',\n 'olmak',\n 'istiyoruz',\n 'dedi',\n 'aydın',\n 'türk',\n 'milletinin',\n 'yalnızlığı',\n 'yaşadığı',\n 'bir',\n 'durumda',\n 'etrafına',\n 'bakındığı',\n 'kendini',\n 'kaldıracak',\n 'birini',\n 'bekleyen',\n 'türkiye',\n 'nin',\n 'mhp',\n 'nin',\n 'kendisine',\n 'ulaşmasıyla',\n 'yarın',\n 'elbet',\n 'bizimdir',\n 'diye',\n 'haykıracağını',\n 'ifade',\n 'etti',\n 'haber',\n 'anka',\n 'foto',\n 'emre',\n 'senoglu',\n 'murat',\n 'oztek']"
     },
     "execution_count": 19,
     "metadata": {},
     "output_type": "execute_result"
    }
   ],
   "source": [
    "preprocessed_Text1[0]"
   ],
   "metadata": {
    "collapsed": false,
    "pycharm": {
     "name": "#%%\n"
    }
   }
  },
  {
   "cell_type": "code",
   "execution_count": 20,
   "outputs": [
    {
     "data": {
      "text/plain": "5"
     },
     "execution_count": 20,
     "metadata": {},
     "output_type": "execute_result"
    }
   ],
   "source": [
    "model=gensim.models.Word2Vec(\n",
    "    window=5,\n",
    "    min_count=2,\n",
    "    workers=4\n",
    ")\n",
    "model.build_vocab(preprocessed_Text1,progress_per=1000)\n",
    "model.epochs\n",
    "\n",
    "\n"
   ],
   "metadata": {
    "collapsed": false,
    "pycharm": {
     "name": "#%%\n"
    }
   }
  },
  {
   "cell_type": "code",
   "execution_count": 21,
   "outputs": [
    {
     "data": {
      "text/plain": "(5492124, 6071665)"
     },
     "execution_count": 21,
     "metadata": {},
     "output_type": "execute_result"
    }
   ],
   "source": [
    "model.train(preprocessed_Text1,total_examples=model.corpus_count,epochs=model.epochs)"
   ],
   "metadata": {
    "collapsed": false,
    "pycharm": {
     "name": "#%%\n"
    }
   }
  },
  {
   "cell_type": "code",
   "execution_count": 11,
   "outputs": [],
   "source": [
    "model.save('./word_similaries.model')"
   ],
   "metadata": {
    "collapsed": false,
    "pycharm": {
     "name": "#%%\n"
    }
   }
  },
  {
   "cell_type": "code",
   "source": [
    "model.wv.most_similar('')"
   ],
   "metadata": {
    "collapsed": false,
    "pycharm": {
     "name": "#%%\n"
    }
   },
   "execution_count": 22,
   "outputs": [
    {
     "data": {
      "text/plain": "[('güçlü', 0.8997889757156372),\n ('güzel', 0.8918555974960327),\n ('başarılı', 0.8909852504730225),\n ('zor', 0.885931134223938),\n ('hızlı', 0.8835777044296265),\n ('zevkli', 0.8834967017173767),\n ('değerli', 0.8812896013259888),\n ('seçilirsek', 0.8720118999481201),\n ('kötü', 0.8705428838729858),\n ('coğrafyamızdan', 0.8702033162117004)]"
     },
     "execution_count": 22,
     "metadata": {},
     "output_type": "execute_result"
    }
   ]
  },
  {
   "cell_type": "code",
   "execution_count": 20,
   "outputs": [
    {
     "data": {
      "text/plain": "0.7995846"
     },
     "execution_count": 20,
     "metadata": {},
     "output_type": "execute_result"
    }
   ],
   "source": [
    "model.wv.similarity(w1='good', w2='great')"
   ],
   "metadata": {
    "collapsed": false,
    "pycharm": {
     "name": "#%%\n"
    }
   }
  },
  {
   "cell_type": "code",
   "execution_count": 21,
   "outputs": [
    {
     "data": {
      "text/plain": "0.5279409"
     },
     "execution_count": 21,
     "metadata": {},
     "output_type": "execute_result"
    }
   ],
   "source": [
    "model.wv.similarity(w1='unfortunate',w2='awful')"
   ],
   "metadata": {
    "collapsed": false,
    "pycharm": {
     "name": "#%%\n"
    }
   }
  },
  {
   "cell_type": "code",
   "execution_count": 23,
   "outputs": [
    {
     "ename": "OSError",
     "evalue": "No file or directory found at word2vec-amozon-cell-acess-dataset-trained",
     "output_type": "error",
     "traceback": [
      "\u001B[1;31m---------------------------------------------------------------------------\u001B[0m",
      "\u001B[1;31mOSError\u001B[0m                                   Traceback (most recent call last)",
      "Input \u001B[1;32mIn [23]\u001B[0m, in \u001B[0;36m<cell line: 1>\u001B[1;34m()\u001B[0m\n\u001B[1;32m----> 1\u001B[0m newModel\u001B[38;5;241m=\u001B[39m\u001B[43mtf\u001B[49m\u001B[38;5;241;43m.\u001B[39;49m\u001B[43mkeras\u001B[49m\u001B[38;5;241;43m.\u001B[39;49m\u001B[43mmodels\u001B[49m\u001B[38;5;241;43m.\u001B[39;49m\u001B[43mload_model\u001B[49m\u001B[43m(\u001B[49m\u001B[38;5;124;43m\"\u001B[39;49m\u001B[38;5;124;43mword2vec-amozon-cell-acess-dataset-trained\u001B[39;49m\u001B[38;5;124;43m\"\u001B[39;49m\u001B[43m)\u001B[49m\n",
      "File \u001B[1;32mC:\\Users\\Public\\Music\\deepLearning\\venv\\lib\\site-packages\\keras\\utils\\traceback_utils.py:67\u001B[0m, in \u001B[0;36mfilter_traceback.<locals>.error_handler\u001B[1;34m(*args, **kwargs)\u001B[0m\n\u001B[0;32m     65\u001B[0m \u001B[38;5;28;01mexcept\u001B[39;00m \u001B[38;5;167;01mException\u001B[39;00m \u001B[38;5;28;01mas\u001B[39;00m e:  \u001B[38;5;66;03m# pylint: disable=broad-except\u001B[39;00m\n\u001B[0;32m     66\u001B[0m   filtered_tb \u001B[38;5;241m=\u001B[39m _process_traceback_frames(e\u001B[38;5;241m.\u001B[39m__traceback__)\n\u001B[1;32m---> 67\u001B[0m   \u001B[38;5;28;01mraise\u001B[39;00m e\u001B[38;5;241m.\u001B[39mwith_traceback(filtered_tb) \u001B[38;5;28;01mfrom\u001B[39;00m \u001B[38;5;28mNone\u001B[39m\n\u001B[0;32m     68\u001B[0m \u001B[38;5;28;01mfinally\u001B[39;00m:\n\u001B[0;32m     69\u001B[0m   \u001B[38;5;28;01mdel\u001B[39;00m filtered_tb\n",
      "File \u001B[1;32mC:\\Users\\Public\\Music\\deepLearning\\venv\\lib\\site-packages\\keras\\saving\\save.py:206\u001B[0m, in \u001B[0;36mload_model\u001B[1;34m(filepath, custom_objects, compile, options)\u001B[0m\n\u001B[0;32m    204\u001B[0m \u001B[38;5;28;01mif\u001B[39;00m \u001B[38;5;28misinstance\u001B[39m(filepath_str, \u001B[38;5;28mstr\u001B[39m):\n\u001B[0;32m    205\u001B[0m   \u001B[38;5;28;01mif\u001B[39;00m \u001B[38;5;129;01mnot\u001B[39;00m tf\u001B[38;5;241m.\u001B[39mio\u001B[38;5;241m.\u001B[39mgfile\u001B[38;5;241m.\u001B[39mexists(filepath_str):\n\u001B[1;32m--> 206\u001B[0m     \u001B[38;5;28;01mraise\u001B[39;00m \u001B[38;5;167;01mIOError\u001B[39;00m(\u001B[38;5;124mf\u001B[39m\u001B[38;5;124m'\u001B[39m\u001B[38;5;124mNo file or directory found at \u001B[39m\u001B[38;5;132;01m{\u001B[39;00mfilepath_str\u001B[38;5;132;01m}\u001B[39;00m\u001B[38;5;124m'\u001B[39m)\n\u001B[0;32m    208\u001B[0m   \u001B[38;5;28;01mif\u001B[39;00m tf\u001B[38;5;241m.\u001B[39mio\u001B[38;5;241m.\u001B[39mgfile\u001B[38;5;241m.\u001B[39misdir(filepath_str):\n\u001B[0;32m    209\u001B[0m     \u001B[38;5;28;01mreturn\u001B[39;00m saved_model_load\u001B[38;5;241m.\u001B[39mload(filepath_str, \u001B[38;5;28mcompile\u001B[39m, options)\n",
      "\u001B[1;31mOSError\u001B[0m: No file or directory found at word2vec-amozon-cell-acess-dataset-trained"
     ]
    }
   ],
   "source": [
    "newModel=tf.keras.models.load_model(\"word2vec-amozon-cell-acess-dataset-trained\")"
   ],
   "metadata": {
    "collapsed": false,
    "pycharm": {
     "name": "#%%\n"
    }
   }
  },
  {
   "cell_type": "code",
   "execution_count": 26,
   "outputs": [
    {
     "data": {
      "text/plain": "        category                                               text\n0       siyaset    3 milyon ile ön seçim vaadi mhp nin 10 olağan...\n1       siyaset    mesut_yılmaz yüce_divan da ceza alabilirdi pr...\n2       siyaset    disko lar kaldırılıyor başbakan_yardımcısı ar...\n3       siyaset    sarıgül anayasa_mahkemesi ne gidiyor mustafa_...\n4       siyaset    erdoğan idamın bir haklılık sebebi var demek ...\n...          ...                                                ...\n4895  teknoloji    iphone lara geri dönüyor ios 6 sürümüyle tele...\n4896  teknoloji    muslukta devrim sadece elimizi yıkadığımız mu...\n4897  teknoloji    halka iyi anlatılmalı bilgi_teknolojileri ile...\n4898  teknoloji    çöpe gidiyorlar apple 775 bin uygulamayla app...\n4899  teknoloji    google bu kez edward_gorey dedi ! google bu k...\n\n[4900 rows x 2 columns]",
      "text/html": "<div>\n<style scoped>\n    .dataframe tbody tr th:only-of-type {\n        vertical-align: middle;\n    }\n\n    .dataframe tbody tr th {\n        vertical-align: top;\n    }\n\n    .dataframe thead th {\n        text-align: right;\n    }\n</style>\n<table border=\"1\" class=\"dataframe\">\n  <thead>\n    <tr style=\"text-align: right;\">\n      <th></th>\n      <th>category</th>\n      <th>text</th>\n    </tr>\n  </thead>\n  <tbody>\n    <tr>\n      <th>0</th>\n      <td>siyaset</td>\n      <td>3 milyon ile ön seçim vaadi mhp nin 10 olağan...</td>\n    </tr>\n    <tr>\n      <th>1</th>\n      <td>siyaset</td>\n      <td>mesut_yılmaz yüce_divan da ceza alabilirdi pr...</td>\n    </tr>\n    <tr>\n      <th>2</th>\n      <td>siyaset</td>\n      <td>disko lar kaldırılıyor başbakan_yardımcısı ar...</td>\n    </tr>\n    <tr>\n      <th>3</th>\n      <td>siyaset</td>\n      <td>sarıgül anayasa_mahkemesi ne gidiyor mustafa_...</td>\n    </tr>\n    <tr>\n      <th>4</th>\n      <td>siyaset</td>\n      <td>erdoğan idamın bir haklılık sebebi var demek ...</td>\n    </tr>\n    <tr>\n      <th>...</th>\n      <td>...</td>\n      <td>...</td>\n    </tr>\n    <tr>\n      <th>4895</th>\n      <td>teknoloji</td>\n      <td>iphone lara geri dönüyor ios 6 sürümüyle tele...</td>\n    </tr>\n    <tr>\n      <th>4896</th>\n      <td>teknoloji</td>\n      <td>muslukta devrim sadece elimizi yıkadığımız mu...</td>\n    </tr>\n    <tr>\n      <th>4897</th>\n      <td>teknoloji</td>\n      <td>halka iyi anlatılmalı bilgi_teknolojileri ile...</td>\n    </tr>\n    <tr>\n      <th>4898</th>\n      <td>teknoloji</td>\n      <td>çöpe gidiyorlar apple 775 bin uygulamayla app...</td>\n    </tr>\n    <tr>\n      <th>4899</th>\n      <td>teknoloji</td>\n      <td>google bu kez edward_gorey dedi ! google bu k...</td>\n    </tr>\n  </tbody>\n</table>\n<p>4900 rows × 2 columns</p>\n</div>"
     },
     "execution_count": 26,
     "metadata": {},
     "output_type": "execute_result"
    }
   ],
   "source": [
    "data 3423"
   ],
   "metadata": {
    "collapsed": false,
    "pycharm": {
     "name": "#%%\n"
    }
   }
  },
  {
   "cell_type": "code",
   "execution_count": null,
   "outputs": [],
   "source": [],
   "metadata": {
    "collapsed": false,
    "pycharm": {
     "name": "#%%\n"
    }
   }
  }
 ],
 "metadata": {
  "kernelspec": {
   "display_name": "Python 3",
   "language": "python",
   "name": "python3"
  },
  "language_info": {
   "codemirror_mode": {
    "name": "ipython",
    "version": 2
   },
   "file_extension": ".py",
   "mimetype": "text/x-python",
   "name": "python",
   "nbconvert_exporter": "python",
   "pygments_lexer": "ipython2",
   "version": "2.7.6"
  }
 },
 "nbformat": 4,
 "nbformat_minor": 0
}