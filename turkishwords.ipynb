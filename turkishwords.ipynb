{
 "cells": [
  {
   "cell_type": "code",
   "execution_count": 4,
   "metadata": {
    "collapsed": true
   },
   "outputs": [],
   "source": [
    "import  pandas as pd"
   ]
  },
  {
   "cell_type": "code",
   "execution_count": 5,
   "outputs": [],
   "source": [
    "dff=pd.read_excel(\"09195609_Ynce_Memed_1_-_YaYar_Kemal__PDFDrive.com_ (1).xlsx\")"
   ],
   "metadata": {
    "collapsed": false,
    "pycharm": {
     "name": "#%%\n"
    }
   }
  },
  {
   "cell_type": "code",
   "execution_count": 6,
   "outputs": [],
   "source": [
    "\n",
    "df=pd.read_csv('7allV03.csv')\n"
   ],
   "metadata": {
    "collapsed": false,
    "pycharm": {
     "name": "#%%\n"
    }
   }
  },
  {
   "cell_type": "code",
   "execution_count": 8,
   "outputs": [],
   "source": [
    "df['yeni_kelimeleri']=dff['Unnamed: 0']+\" \"+df['text']\n"
   ],
   "metadata": {
    "collapsed": false,
    "pycharm": {
     "name": "#%%\n"
    }
   }
  },
  {
   "cell_type": "code",
   "execution_count": 14,
   "outputs": [],
   "source": [
    "df2=df.yeni_kelimeleri.dropna()\n"
   ],
   "metadata": {
    "collapsed": false,
    "pycharm": {
     "name": "#%%\n"
    }
   }
  },
  {
   "cell_type": "code",
   "execution_count": 40,
   "outputs": [],
   "source": [
    "df2.to_csv('newDataFrame', index=False)"
   ],
   "metadata": {
    "collapsed": false,
    "pycharm": {
     "name": "#%%\n"
    }
   }
  },
  {
   "cell_type": "code",
   "execution_count": 17,
   "outputs": [],
   "source": [
    "data=df2.apply(lambda x:str(x).replace(r'\\r\\n',''))"
   ],
   "metadata": {
    "collapsed": false,
    "pycharm": {
     "name": "#%%\n"
    }
   }
  },
  {
   "cell_type": "code",
   "execution_count": 18,
   "outputs": [
    {
     "data": {
      "text/plain": "3       Yaşar Kemal\\nİnce Memed  sarıgül anayasa_mahke...\n4       Duvarın dibinde resmim aldılar Ak kağıt üstünd...\n5       Giriş\\n1\\nToros   dağlarının   etekleri   ta  ...\n7       koyu   yeşil,   ucu   bucağı   belirsiz   alan...\n9       dorukları       yanındaymış,       elini      ...\n                              ...                        \n1553    Bulursun. Elinle koymuş gibi. Korkusundan dışa...\n1555    yaptı.    Burada    atı    mahmuzladı.    Çarş...\n1557    rüzgarından odadaki lamba söndü. Yıldırım gibi...\n1559    Orta   yerdeki   dimdik,   kaya   kesilmiş   a...\n1561    Dikenlidüzü  köylüleri  her  yıl  çift  koşmaz...\nName: yeni_kelimeleri, Length: 802, dtype: object"
     },
     "execution_count": 18,
     "metadata": {},
     "output_type": "execute_result"
    }
   ],
   "source": [
    "data"
   ],
   "metadata": {
    "collapsed": false,
    "pycharm": {
     "name": "#%%\n"
    }
   }
  },
  {
   "cell_type": "code",
   "execution_count": 19,
   "outputs": [],
   "source": [
    "\n",
    "\n",
    "\n",
    "\n",
    "data1=data.apply(lambda x:x.strip())"
   ],
   "metadata": {
    "collapsed": false,
    "pycharm": {
     "name": "#%%\n"
    }
   }
  },
  {
   "cell_type": "code",
   "execution_count": 20,
   "outputs": [],
   "source": [
    "import  gensim\n",
    "import  tensorflow as tf"
   ],
   "metadata": {
    "collapsed": false,
    "pycharm": {
     "name": "#%%\n"
    }
   }
  },
  {
   "cell_type": "code",
   "execution_count": 24,
   "outputs": [],
   "source": [
    "gs=gensim.utils.simple_preprocess"
   ],
   "metadata": {
    "collapsed": false,
    "pycharm": {
     "name": "#%%\n"
    }
   }
  },
  {
   "cell_type": "code",
   "execution_count": 25,
   "outputs": [],
   "source": [
    "prepared_words=data.apply(gs)"
   ],
   "metadata": {
    "collapsed": false,
    "pycharm": {
     "name": "#%%\n"
    }
   }
  },
  {
   "cell_type": "code",
   "execution_count": 35,
   "outputs": [
    {
     "data": {
      "text/plain": "3       [yaşar, kemal, nce, memed, sarıgül, ne, gidiyo...\n4       [duvarın, dibinde, resmim, aldılar, ak, kağıt,...\n5       [giriş, toros, dağlarının, etekleri, ta, akden...\n7       [koyu, yeşil, ucu, bucağı, belirsiz, alanlardı...\n9       [dorukları, yanındaymış, elini, uzatsan, tutac...\n                              ...                        \n1553    [bulursun, elinle, koymuş, gibi, korkusundan, ...\n1555    [yaptı, burada, atı, mahmuzladı, çarşının, ort...\n1557    [rüzgarından, odadaki, lamba, söndü, yıldırım,...\n1559    [orta, yerdeki, dimdik, kaya, kesilmiş, atlı, ...\n1561    [dikenlidüzü, köylüleri, her, yıl, çift, koşma...\nName: yeni_kelimeleri, Length: 802, dtype: object"
     },
     "execution_count": 35,
     "metadata": {},
     "output_type": "execute_result"
    }
   ],
   "source": [
    "prepared_words"
   ],
   "metadata": {
    "collapsed": false,
    "pycharm": {
     "name": "#%%\n"
    }
   }
  },
  {
   "cell_type": "code",
   "execution_count": 26,
   "outputs": [],
   "source": [
    "prepared_words1=prepared_words.apply(lambda x: gensim.parsing.preprocessing.remove_stopwords(\" \".join(x)))"
   ],
   "metadata": {
    "collapsed": false,
    "pycharm": {
     "name": "#%%\n"
    }
   }
  },
  {
   "cell_type": "code",
   "execution_count": 40,
   "outputs": [],
   "source": [],
   "metadata": {
    "collapsed": false,
    "pycharm": {
     "name": "#%%\n"
    }
   }
  },
  {
   "cell_type": "code",
   "execution_count": 33,
   "outputs": [
    {
     "data": {
      "text/plain": "5"
     },
     "execution_count": 33,
     "metadata": {},
     "output_type": "execute_result"
    }
   ],
   "source": [
    "model=gensim.models.Word2Vec(\n",
    "    window=5,\n",
    "    min_count=2,\n",
    "    workers=4,\n",
    "    vector_size=100,\n",
    "    hs=1,\n",
    "    cbow_mean=1,\n",
    " sg=1\n",
    "\n",
    ")\n",
    "model.build_vocab(prepared_words,progress_per=1000)\n",
    "model.epochs"
   ],
   "metadata": {
    "collapsed": false,
    "pycharm": {
     "name": "#%%\n"
    }
   }
  },
  {
   "cell_type": "code",
   "execution_count": null,
   "outputs": [],
   "source": [],
   "metadata": {
    "collapsed": false,
    "pycharm": {
     "name": "#%%\n"
    }
   }
  },
  {
   "cell_type": "code",
   "execution_count": 34,
   "outputs": [
    {
     "data": {
      "text/plain": "(5012600, 5853620)"
     },
     "execution_count": 34,
     "metadata": {},
     "output_type": "execute_result"
    }
   ],
   "source": [
    "model.train(prepared_words,total_examples=model.corpus_count,epochs=20)"
   ],
   "metadata": {
    "collapsed": false,
    "pycharm": {
     "name": "#%%\n"
    }
   }
  },
  {
   "cell_type": "code",
   "execution_count": 42,
   "outputs": [
    {
     "data": {
      "text/plain": "[('alışkanlıklarım', 0.588882565498352),\n ('siciline', 0.585211455821991),\n ('muameleye', 0.5747544765472412),\n ('önlem', 0.5653094053268433),\n ('tabularını', 0.5611082911491394),\n ('umudumuzu', 0.5538167953491211),\n ('işkence', 0.5532727241516113),\n ('muamele', 0.541191577911377),\n ('öleceğim', 0.5271450281143188),\n ('enerjik', 0.5020536780357361)]"
     },
     "execution_count": 42,
     "metadata": {},
     "output_type": "execute_result"
    }
   ],
   "source": [
    "model.wv.most_similar('kötü')"
   ],
   "metadata": {
    "collapsed": false,
    "pycharm": {
     "name": "#%%\n"
    }
   }
  },
  {
   "cell_type": "code",
   "execution_count": 39,
   "outputs": [
    {
     "data": {
      "text/plain": "0.43296593"
     },
     "execution_count": 39,
     "metadata": {},
     "output_type": "execute_result"
    }
   ],
   "source": [
    "model.wv.similarity(w1='kötü', w2='iyi')"
   ],
   "metadata": {
    "collapsed": false,
    "pycharm": {
     "name": "#%%\n"
    }
   }
  },
  {
   "cell_type": "code",
   "execution_count": 27,
   "outputs": [
    {
     "data": {
      "text/plain": "3       yaşar kemal nce memed sarıgül ne gidiyor musta...\n4       duvarın dibinde resmim aldılar ak kağıt üstünd...\n5       giriş toros dağlarının etekleri ta akdenizden ...\n7       koyu yeşil ucu bucağı belirsiz alanlardır bunl...\n9       dorukları yanındaymış elini uzatsan tutacakmış...\n                              ...                        \n1553    bulursun elinle koymuş gibi korkusundan dışarı...\n1555    yaptı burada atı mahmuzladı çarşının ortasında...\n1557    rüzgarından odadaki lamba söndü yıldırım gibi ...\n1559    orta yerdeki dimdik kaya kesilmiş atlı azıcık ...\n1561    dikenlidüzü köylüleri yıl çift koşmazdan önce ...\nName: yeni_kelimeleri, Length: 802, dtype: object"
     },
     "execution_count": 27,
     "metadata": {},
     "output_type": "execute_result"
    }
   ],
   "source": [
    "prepared_words1"
   ],
   "metadata": {
    "collapsed": false,
    "pycharm": {
     "name": "#%%\n"
    }
   }
  },
  {
   "cell_type": "code",
   "execution_count": null,
   "outputs": [],
   "source": [],
   "metadata": {
    "collapsed": false,
    "pycharm": {
     "name": "#%%\n"
    }
   }
  }
 ],
 "metadata": {
  "kernelspec": {
   "display_name": "Python 3",
   "language": "python",
   "name": "python3"
  },
  "language_info": {
   "codemirror_mode": {
    "name": "ipython",
    "version": 2
   },
   "file_extension": ".py",
   "mimetype": "text/x-python",
   "name": "python",
   "nbconvert_exporter": "python",
   "pygments_lexer": "ipython2",
   "version": "2.7.6"
  }
 },
 "nbformat": 4,
 "nbformat_minor": 0
}